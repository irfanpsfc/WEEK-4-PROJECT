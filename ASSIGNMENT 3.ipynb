{
 "cells": [
  {
   "cell_type": "code",
   "execution_count": 1,
   "id": "0988982d",
   "metadata": {},
   "outputs": [
    {
     "name": "stdout",
     "output_type": "stream",
     "text": [
      "Enter the first number: 10\n",
      "Enter an operator (+, -, *, /): /\n",
      "Enter the second number: 3\n",
      "Result: 10.0 / 3.0 = 3.3333333333333335\n",
      "Do you want to perform another calculation? (yes/no): yes\n",
      "Enter the first number: 8\n",
      "Enter an operator (+, -, *, /): *\n",
      "Enter the second number: 8\n",
      "Result: 8.0 * 8.0 = 64.0\n",
      "Do you want to perform another calculation? (yes/no): no\n"
     ]
    }
   ],
   "source": [
    "def add(x, y):\n",
    "    return x + y\n",
    "\n",
    "def subtract(x, y):\n",
    "    return x - y\n",
    "\n",
    "def multiply(x, y):\n",
    "    return x * y\n",
    "\n",
    "def divide(x, y):\n",
    "    if y == 0:\n",
    "        raise ZeroDivisionError(\"Division by zero is not allowed.\")\n",
    "    return x / y\n",
    "\n",
    "while True:\n",
    "    try:\n",
    "        # Input from the user\n",
    "        num1 = float(input(\"Enter the first number: \"))\n",
    "        operator = input(\"Enter an operator (+, -, *, /): \")\n",
    "        num2 = float(input(\"Enter the second number: \"))\n",
    "\n",
    "        # Perform the operation based on the operator\n",
    "        if operator == '+':\n",
    "            result = add(num1, num2)\n",
    "        elif operator == '-':\n",
    "            result = subtract(num1, num2)\n",
    "        elif operator == '*':\n",
    "            result = multiply(num1, num2)\n",
    "        elif operator == '/':\n",
    "            result = divide(num1, num2)\n",
    "        else:\n",
    "            raise ValueError(\"Invalid operator. Please use +, -, *, or /.\")\n",
    "\n",
    "        print(f\"Result: {num1} {operator} {num2} = {result}\")\n",
    "\n",
    "    except (ValueError, ZeroDivisionError) as e:\n",
    "        print(f\"Error: {e}\")\n",
    "    \n",
    "    another_calculation = input(\"Do you want to perform another calculation? (yes/no): \").lower()\n",
    "    if another_calculation != \"yes\":\n",
    "        break"
   ]
  }
 ],
 "metadata": {
  "kernelspec": {
   "display_name": "Python 3 (ipykernel)",
   "language": "python",
   "name": "python3"
  },
  "language_info": {
   "codemirror_mode": {
    "name": "ipython",
    "version": 3
   },
   "file_extension": ".py",
   "mimetype": "text/x-python",
   "name": "python",
   "nbconvert_exporter": "python",
   "pygments_lexer": "ipython3",
   "version": "3.11.5"
  }
 },
 "nbformat": 4,
 "nbformat_minor": 5
}
